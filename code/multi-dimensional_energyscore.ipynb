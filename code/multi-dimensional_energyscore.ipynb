{
 "cells": [
  {
   "cell_type": "code",
   "execution_count": 2,
   "id": "199d8db1",
   "metadata": {},
   "outputs": [
    {
     "name": "stdout",
     "output_type": "stream",
     "text": [
      "Intel MKL WARNING: Support of Intel(R) Streaming SIMD Extensions 4.2 (Intel(R) SSE4.2) enabled only processors has been deprecated. Intel oneAPI Math Kernel Library 2025.0 will require Intel(R) Advanced Vector Extensions (Intel(R) AVX) instructions.\n",
      "Intel MKL WARNING: Support of Intel(R) Streaming SIMD Extensions 4.2 (Intel(R) SSE4.2) enabled only processors has been deprecated. Intel oneAPI Math Kernel Library 2025.0 will require Intel(R) Advanced Vector Extensions (Intel(R) AVX) instructions.\n"
     ]
    }
   ],
   "source": [
    "import pandas as pd\n",
    "import numpy as np\n",
    "import datetime\n",
    "from scorepi import *\n",
    "from epiweeks import Week\n",
    "import matplotlib.pyplot as plt\n",
    "from collections import defaultdict\n",
    "import seaborn as sns\n",
    "import datetime\n",
    "from datetime import datetime\n",
    "from datetime import timedelta\n",
    "from pathlib import Path\n",
    "import matplotlib as mpl\n",
    "import random\n",
    "from numba import njit\n",
    "import warnings\n",
    "warnings.filterwarnings('ignore')"
   ]
  },
  {
   "cell_type": "code",
   "execution_count": 2,
   "id": "f25880b0",
   "metadata": {},
   "outputs": [],
   "source": [
    "from numba import njit\n",
    "@njit\n",
    "def energyscore(X,y):\n",
    "    # X is matrix of trajectories, y is observations\n",
    "    ES = 0\n",
    "    N = X.shape[0]\n",
    "    for i in range(N):\n",
    "        ES += np.sqrt(np.sum((X[i]-y)**2))/N\n",
    "    for i in range(N):\n",
    "        for j in range(N):\n",
    "            ES -= np.sqrt(np.sum((X[i]-X[j])**2))/(2*N**2)\n",
    "    return ES\n"
   ]
  },
  {
   "cell_type": "code",
   "execution_count": 83,
   "id": "3b0cd314",
   "metadata": {},
   "outputs": [],
   "source": [
    "from numba import njit\n",
    "@njit\n",
    "def energyscore_multipletargets(X,y):\n",
    "    # X is matrix of trajectories, y is observations\n",
    "    ES = 0\n",
    "    N = X.shape[0]\n",
    "    for i in range(N):\n",
    "        ES += np.sqrt(np.sum(((X[i]-y)**2)/(np.sum(y,axis=1)[:, np.newaxis])**2))/ N\n",
    "    for i in range(N):\n",
    "        for j in range(N):\n",
    "            ES -= np.sqrt(np.sum(((X[i]-X[j])**2)/(np.sum(y,axis=1)[:, np.newaxis])**2))/(2*N**2)\n",
    "    return ES\n"
   ]
  },
  {
   "cell_type": "code",
   "execution_count": 4,
   "id": "d6d8c385",
   "metadata": {},
   "outputs": [],
   "source": [
    "# toy example\n",
    "hosp = np.array([np.array([90, 96]), np.array([105, 110])])\n",
    "case = np.array([np.array([950, 1001]), np.array([1100, 1030])])\n",
    "death = np.array([np.array([5,6]), np.array([12,9])])\n",
    "\n",
    "X1 = np.array([hosp[0], case[0], death[0]])\n",
    "X2 = np.array([hosp[1], case[1], death[1]])\n",
    "A = np.array([X1, X2])\n",
    "\n",
    "obsh = np.array([100, 103])\n",
    "obsc = np.array([1000, 999])\n",
    "obsd = np.array([10, 11])\n",
    "\n",
    "obs = np.array([obsh, obsc, obsd])\n",
    "#X = np.array([hosp, case, death])"
   ]
  },
  {
   "cell_type": "code",
   "execution_count": 5,
   "id": "a9360e97",
   "metadata": {},
   "outputs": [
    {
     "data": {
      "text/plain": [
       "0.15073861735596714"
      ]
     },
     "execution_count": 5,
     "metadata": {},
     "output_type": "execute_result"
    }
   ],
   "source": [
    "energyscore_multipletargets(A,obs)"
   ]
  },
  {
   "cell_type": "markdown",
   "id": "2c6db0aa",
   "metadata": {},
   "source": [
    "# Flu SMH Analysis"
   ]
  },
  {
   "cell_type": "code",
   "execution_count": 6,
   "id": "7552d8f6",
   "metadata": {},
   "outputs": [],
   "source": [
    "def pull_flu_scenario_modeling_hub_predictions(model,dates):\n",
    "    \"\"\"pull_scenario_modeling_hub_predictions. Load predictions of the model saved by the scenario modeling\n",
    "    hub.\n",
    "\n",
    "    Parameters  \n",
    "    ----------\n",
    "    model : str\n",
    "        Model name on thhe\n",
    "    dates : list or string\n",
    "        List of potential dates in the iso format, e.g., 'yyyy-mm-dd', for the submission.\n",
    "    \"\"\"\n",
    "    predictions = None\n",
    "    if isinstance(dates,str):\n",
    "        dates = [dates]\n",
    "    for date in dates:\n",
    "        url = f\"https://raw.githubusercontent.com/midas-network/flu-scenario-modeling-hub/master/data-processed/{model}/{date}-{model}\"\n",
    "        for ext in [\".gz.parquet\", \".parquet\"]:\n",
    "                try:\n",
    "                    predictions = pd.read_parquet(url+ext)\n",
    "                    \n",
    "                except:\n",
    "                    pass\n",
    "\n",
    "    if predictions is None:\n",
    "        print(f\"Data for model {model} and date {dates} unavailable\")\n",
    "    return predictions\n"
   ]
  },
  {
   "cell_type": "markdown",
   "id": "9112d85e",
   "metadata": {},
   "source": [
    "# Multi-dimensional energy score for MOBS model"
   ]
  },
  {
   "cell_type": "code",
   "execution_count": 45,
   "id": "b3ac9e99",
   "metadata": {},
   "outputs": [],
   "source": [
    "# use Flu SMH data and shuffle trajectory matrices for hospitalizations in all states and calculate energy score\n",
    "# for different matrix formulations"
   ]
  },
  {
   "cell_type": "code",
   "execution_count": 7,
   "id": "18a328ee",
   "metadata": {},
   "outputs": [],
   "source": [
    "modelmap = {'MOBS_NEU-GLEAM_FLU':'Model A', 'NIH-Flu_TS': 'Model B','NotreDame-FRED':'Model C',\n",
    "            'PSI-M2':'Model D', 'USC-SIkJalpha':'Model E', 'UT-ImmunoSEIRS':'Model F'}"
   ]
  },
  {
   "cell_type": "code",
   "execution_count": 8,
   "id": "c971d6d7",
   "metadata": {},
   "outputs": [],
   "source": [
    "#hospitalizations\n",
    "target = 'hospitalization'\n",
    "incidence=True\n",
    "hosp = pd.read_parquet(f\"/Users/bay.c/Documents/GitHub/energy-score/fludat/truth_{'inc' if incidence else 'cum'}_{target}.pq\")\n",
    "hosp['date'] = pd.to_datetime(hosp['date'])\n",
    "hosp = hosp[(hosp.date>=pd.to_datetime('2023-09-09'))].sort_values(by=['date']).reset_index().drop(columns=\\\n",
    "                                                                        ['Unnamed: 0', 'index','weekly_rate'])\n",
    "\n",
    "hosp = hosp[(hosp.location != '72') &(hosp.location!='66')]\n"
   ]
  },
  {
   "cell_type": "code",
   "execution_count": 9,
   "id": "dec41c38",
   "metadata": {},
   "outputs": [],
   "source": [
    "modelsall = ['MOBS_NEU-GLEAM_FLU', 'NotreDame-FRED', 'USC-SIkJalpha', 'UT-ImmunoSEIRS',\n",
    "                  'NIH-Flu_TS', 'PSI-M2']\n",
    "\n",
    "start_week = pd.to_datetime('2023-09-09')\n",
    "max_date = pd.to_datetime(hosp.date.max())\n",
    "\n",
    "\n",
    "predictionsall = pd.DataFrame()\n",
    "i=0\n",
    "for model in modelsall:\n",
    "    df = pull_flu_scenario_modeling_hub_predictions(model,'2023-09-03')\n",
    "    # filter by trajectories and only look at age group with all ages combined\n",
    "    df = df[(df.output_type == 'sample') & (df.age_group == '0-130')]\n",
    "    df['output_type_id'] = df['output_type_id'].astype(\"int\")\n",
    "    \n",
    "    df['Model'] = model\n",
    "    df['trajectory_id'] = df['output_type_id'] + 100*i\n",
    "    \n",
    "    numweeks = list(df.horizon.unique())\n",
    "    start_date = list(df.origin_date.unique())[0]\n",
    "    date_1 = pd.to_datetime(start_date)\n",
    "\n",
    "    alldates = []\n",
    "    for wk in numweeks:\n",
    "        if wk==1:\n",
    "            d = date_1 + timedelta(days=6*int(wk))\n",
    "        else:\n",
    "            d = pd.to_datetime(\"2023-09-02\") + timedelta(weeks=int(wk))\n",
    "\n",
    "        alldates.append(d)\n",
    "\n",
    "    dfdates = pd.DataFrame({'horizon':numweeks, 'target_end_date':alldates}) # add date of prediction to dataframe\n",
    "    df = df.merge(dfdates, how='inner', on='horizon')\n",
    "\n",
    "    predictionsall = pd.concat([predictionsall, df])\n",
    "    i += 1\n",
    "    \n",
    "    \n",
    "# filter by dates with data\n",
    "predictionsall = predictionsall[predictionsall.target_end_date <= max_date]    \n",
    "     \n",
    "    "
   ]
  },
  {
   "cell_type": "code",
   "execution_count": 246,
   "id": "013a2b35",
   "metadata": {},
   "outputs": [],
   "source": [
    "dfmobs = predictionsall[(predictionsall.Model=='MOBS_NEU-GLEAM_FLU') & (predictionsall.target=='inc hosp')]"
   ]
  },
  {
   "cell_type": "code",
   "execution_count": 13,
   "id": "25163e31",
   "metadata": {
    "scrolled": true
   },
   "outputs": [
    {
     "name": "stdout",
     "output_type": "stream",
     "text": [
      "0\n",
      "1\n",
      "2\n",
      "3\n",
      "4\n",
      "5\n",
      "6\n",
      "7\n",
      "8\n",
      "9\n",
      "10\n",
      "11\n",
      "12\n",
      "13\n",
      "14\n",
      "15\n",
      "16\n",
      "17\n",
      "18\n",
      "19\n",
      "20\n",
      "21\n",
      "22\n",
      "23\n",
      "24\n",
      "25\n",
      "26\n",
      "27\n",
      "28\n",
      "29\n",
      "30\n",
      "31\n",
      "32\n",
      "33\n",
      "34\n",
      "35\n",
      "36\n",
      "37\n",
      "38\n",
      "39\n",
      "40\n",
      "41\n",
      "42\n",
      "43\n",
      "44\n",
      "45\n",
      "46\n",
      "47\n",
      "48\n",
      "49\n"
     ]
    }
   ],
   "source": [
    "obs = np.array([np.array(hosp[hosp.location == i].value) for \\\n",
    "                     i in dfmobs.location.unique()])\n",
    "locations = list(dfmobs.location.unique())\n",
    "\n",
    "energyscores_locations = pd.DataFrame()\n",
    "\n",
    "for it in range(50):\n",
    "    print(it)\n",
    "    for model in ['MOBS_NEU-GLEAM_FLU']:\n",
    "        for scenario in ['A', 'B', 'C', 'D', 'E', 'F']:\n",
    "\n",
    "            loc_array ={}\n",
    "            j=0\n",
    "            \n",
    "            dfall = pd.DataFrame()\n",
    "            for loc in locations:\n",
    "                if loc in ['72', '66']:\n",
    "                    continue\n",
    "                predictionshosp = dfmobs[(dfmobs.scenario_id == scenario + '-2023-08-14') & \\\n",
    "                                            (dfmobs.target_end_date <= hosp.date.max()) & \\\n",
    "                                            (dfmobs.target_end_date >= hosp.date.min())&\\\n",
    "                                            (dfmobs.Model == model) &\\\n",
    "                                            (dfmobs.location==loc)]\n",
    "\n",
    "                newid = random.sample(list(predictionshosp['trajectory_id'].unique()), \n",
    "                                      k=len(list(predictionshosp['trajectory_id'].unique())))\n",
    "                predictionshosp['new_id'] = predictionshosp['trajectory_id'].apply(lambda key: newid[key-1])\n",
    "\n",
    "                dfall = pd.concat([dfall,predictionshosp])\n",
    "                \n",
    "            tlist = []\n",
    "            for tid in dfall.new_id.unique():\n",
    "                dfilt = dfall[dfall.new_id==tid]\n",
    "                llist = []\n",
    "                for loc in dfilt.location.unique():\n",
    "                    d = dfilt[dfilt.location==loc].sort_values(by='target_end_date')\n",
    "                    llist.append(list(d.value))\n",
    "                    \n",
    "                tlist.append(llist)\n",
    "                \n",
    "\n",
    "            A = np.array(tlist)\n",
    "\n",
    "            ES = energyscore_multipletargets(A,obs)\n",
    "\n",
    "\n",
    "            newrow = pd.DataFrame({'Model':model , 'Label': 'Scenario '+ scenario, 'location':'US',  \n",
    "                                 'energyscore': ES, 'it':it}, index=[0])\n",
    "\n",
    "            energyscores_locations = pd.concat([energyscores_locations, newrow])\n",
    "\n",
    "energyscores_locations = energyscores_locations.reset_index().drop(columns=['index'])  "
   ]
  },
  {
   "cell_type": "code",
   "execution_count": 14,
   "id": "5d86fd6d",
   "metadata": {},
   "outputs": [],
   "source": [
    "energyscores_locations.to_csv('../fludat/multitarget_loc_MOBS_1204.csv')"
   ]
  },
  {
   "cell_type": "code",
   "execution_count": 3,
   "id": "7254a18f",
   "metadata": {},
   "outputs": [],
   "source": [
    "baseline = pd.read_csv('../fludat/multitarget_loc_baseline_1204.csv')\n",
    "baselinemed = baseline.energyscore.median()\n",
    "\n",
    "energyscores_locations = pd.read_csv('../fludat/multitarget_loc_MOBS_1204.csv')\n",
    "energyscores_locations['ES_ratio'] = energyscores_locations['energyscore'] / baselinemed\n"
   ]
  },
  {
   "cell_type": "code",
   "execution_count": 5,
   "id": "e46c5850",
   "metadata": {},
   "outputs": [
    {
     "data": {
      "image/png": "[encoded data removed]",
      "text/plain": [
       "<Figure size 400x600 with 1 Axes>"
      ]
     },
     "metadata": {},
     "output_type": "display_data"
    }
   ],
   "source": [
    "# plot multi-target energy score across all locations just for MOBS model\n",
    "fig, ax = plt.subplots(1,1,figsize=(4,6), sharex=True)\n",
    "\n",
    "my_order = list(energyscores_locations.Label.unique())\n",
    "sns.boxplot(x='ES_ratio', y='Label', data=energyscores_locations, width=.4, showfliers=True, color='teal')\n",
    "plt.ylabel('')\n",
    "plt.yticks([])\n",
    "plt.xlabel('Energy score over all locations')\n",
    "\n",
    "a=0\n",
    "for mod in list(my_order):\n",
    "    plt.text(1,a-.25, mod, fontsize=10, style='italic', color='dimgray')\n",
    "    a+=1\n",
    "\n",
    "\n",
    "\n",
    "#plt.savefig('../figs/mulitargets_locations_MOBS.pdf')"
   ]
  },
  {
   "cell_type": "code",
   "execution_count": 17,
   "id": "87c4d605",
   "metadata": {},
   "outputs": [],
   "source": [
    "energyscores_locations.groupby('Label').median().to_csv('../fludat/multitarget_mobs_ratio_median_1204.csv')"
   ]
  },
  {
   "cell_type": "code",
   "execution_count": 245,
   "id": "a2b70413",
   "metadata": {},
   "outputs": [],
   "source": [
    "energyscores_locations =pd.read_csv('../fludat/multitarget_loc_MOBS_1204.csv')"
   ]
  },
  {
   "cell_type": "code",
   "execution_count": 29,
   "id": "903f4845",
   "metadata": {},
   "outputs": [],
   "source": [
    "df_describe = energyscores_locations.drop(columns=['Unnamed: 0', 'location', 'it',\n",
    "                                                   'Model']).groupby('Label').describe()['energyscore']\n",
    "\n",
    "df_describe['range'] = df_describe['max'] - df_describe['min']\n",
    "df_describe = df_describe.round(3)"
   ]
  },
  {
   "cell_type": "code",
   "execution_count": 30,
   "id": "d53f287e",
   "metadata": {},
   "outputs": [
    {
     "data": {
      "text/html": [
       "<div>\n",
       "<style scoped>\n",
       "    .dataframe tbody tr th:only-of-type {\n",
       "        vertical-align: middle;\n",
       "    }\n",
       "\n",
       "    .dataframe tbody tr th {\n",
       "        vertical-align: top;\n",
       "    }\n",
       "\n",
       "    .dataframe thead th {\n",
       "        text-align: right;\n",
       "    }\n",
       "</style>\n",
       "<table border=\"1\" class=\"dataframe\">\n",
       "  <thead>\n",
       "    <tr style=\"text-align: right;\">\n",
       "      <th></th>\n",
       "      <th>count</th>\n",
       "      <th>mean</th>\n",
       "      <th>std</th>\n",
       "      <th>min</th>\n",
       "      <th>25%</th>\n",
       "      <th>50%</th>\n",
       "      <th>75%</th>\n",
       "      <th>max</th>\n",
       "      <th>range</th>\n",
       "    </tr>\n",
       "    <tr>\n",
       "      <th>Label</th>\n",
       "      <th></th>\n",
       "      <th></th>\n",
       "      <th></th>\n",
       "      <th></th>\n",
       "      <th></th>\n",
       "      <th></th>\n",
       "      <th></th>\n",
       "      <th></th>\n",
       "      <th></th>\n",
       "    </tr>\n",
       "  </thead>\n",
       "  <tbody>\n",
       "    <tr>\n",
       "      <th>Scenario A</th>\n",
       "      <td>50.0</td>\n",
       "      <td>0.868</td>\n",
       "      <td>0.0</td>\n",
       "      <td>0.867</td>\n",
       "      <td>0.867</td>\n",
       "      <td>0.868</td>\n",
       "      <td>0.868</td>\n",
       "      <td>0.868</td>\n",
       "      <td>0.002</td>\n",
       "    </tr>\n",
       "    <tr>\n",
       "      <th>Scenario B</th>\n",
       "      <td>50.0</td>\n",
       "      <td>1.005</td>\n",
       "      <td>0.0</td>\n",
       "      <td>1.004</td>\n",
       "      <td>1.005</td>\n",
       "      <td>1.005</td>\n",
       "      <td>1.005</td>\n",
       "      <td>1.005</td>\n",
       "      <td>0.001</td>\n",
       "    </tr>\n",
       "    <tr>\n",
       "      <th>Scenario C</th>\n",
       "      <td>50.0</td>\n",
       "      <td>0.843</td>\n",
       "      <td>0.0</td>\n",
       "      <td>0.841</td>\n",
       "      <td>0.842</td>\n",
       "      <td>0.843</td>\n",
       "      <td>0.843</td>\n",
       "      <td>0.843</td>\n",
       "      <td>0.002</td>\n",
       "    </tr>\n",
       "    <tr>\n",
       "      <th>Scenario D</th>\n",
       "      <td>50.0</td>\n",
       "      <td>0.917</td>\n",
       "      <td>0.0</td>\n",
       "      <td>0.917</td>\n",
       "      <td>0.917</td>\n",
       "      <td>0.917</td>\n",
       "      <td>0.918</td>\n",
       "      <td>0.918</td>\n",
       "      <td>0.001</td>\n",
       "    </tr>\n",
       "    <tr>\n",
       "      <th>Scenario E</th>\n",
       "      <td>50.0</td>\n",
       "      <td>0.857</td>\n",
       "      <td>0.0</td>\n",
       "      <td>0.856</td>\n",
       "      <td>0.857</td>\n",
       "      <td>0.857</td>\n",
       "      <td>0.857</td>\n",
       "      <td>0.858</td>\n",
       "      <td>0.002</td>\n",
       "    </tr>\n",
       "    <tr>\n",
       "      <th>Scenario F</th>\n",
       "      <td>50.0</td>\n",
       "      <td>0.816</td>\n",
       "      <td>0.0</td>\n",
       "      <td>0.815</td>\n",
       "      <td>0.816</td>\n",
       "      <td>0.816</td>\n",
       "      <td>0.816</td>\n",
       "      <td>0.817</td>\n",
       "      <td>0.001</td>\n",
       "    </tr>\n",
       "  </tbody>\n",
       "</table>\n",
       "</div>"
      ],
      "text/plain": [
       "            count   mean  std    min    25%    50%    75%    max  range\n",
       "Label                                                                  \n",
       "Scenario A   50.0  0.868  0.0  0.867  0.867  0.868  0.868  0.868  0.002\n",
       "Scenario B   50.0  1.005  0.0  1.004  1.005  1.005  1.005  1.005  0.001\n",
       "Scenario C   50.0  0.843  0.0  0.841  0.842  0.843  0.843  0.843  0.002\n",
       "Scenario D   50.0  0.917  0.0  0.917  0.917  0.917  0.918  0.918  0.001\n",
       "Scenario E   50.0  0.857  0.0  0.856  0.857  0.857  0.857  0.858  0.002\n",
       "Scenario F   50.0  0.816  0.0  0.815  0.816  0.816  0.816  0.817  0.001"
      ]
     },
     "execution_count": 30,
     "metadata": {},
     "output_type": "execute_result"
    }
   ],
   "source": [
    "df_describe"
   ]
  },
  {
   "cell_type": "code",
   "execution_count": 21,
   "id": "382b977e",
   "metadata": {},
   "outputs": [
    {
     "data": {
      "text/plain": [
       "'\\\\begin{tabular}{lrrrrrrrrr}\\n\\\\toprule\\n{} &  count &  mean &  std &   min &   25\\\\% &   50\\\\% &   75\\\\% &   max &  range \\\\\\\\\\nLabel      &        &       &      &       &       &       &       &       &        \\\\\\\\\\n\\\\midrule\\nScenario A &   50.0 &  0.87 &  0.0 &  0.87 &  0.87 &  0.87 &  0.87 &  0.87 &    0.0 \\\\\\\\\\nScenario B &   50.0 &  1.00 &  0.0 &  1.00 &  1.00 &  1.00 &  1.01 &  1.01 &    0.0 \\\\\\\\\\nScenario C &   50.0 &  0.84 &  0.0 &  0.84 &  0.84 &  0.84 &  0.84 &  0.84 &    0.0 \\\\\\\\\\nScenario D &   50.0 &  0.92 &  0.0 &  0.92 &  0.92 &  0.92 &  0.92 &  0.92 &    0.0 \\\\\\\\\\nScenario E &   50.0 &  0.86 &  0.0 &  0.86 &  0.86 &  0.86 &  0.86 &  0.86 &    0.0 \\\\\\\\\\nScenario F &   50.0 &  0.82 &  0.0 &  0.82 &  0.82 &  0.82 &  0.82 &  0.82 &    0.0 \\\\\\\\\\n\\\\bottomrule\\n\\\\end{tabular}\\n'"
      ]
     },
     "execution_count": 21,
     "metadata": {},
     "output_type": "execute_result"
    }
   ],
   "source": [
    "df_describe.to_latex()"
   ]
  },
  {
   "cell_type": "code",
   "execution_count": null,
   "id": "ae7e8d37",
   "metadata": {},
   "outputs": [],
   "source": []
  }
 ],
 "metadata": {
  "kernelspec": {
   "display_name": "Python 3 (ipykernel)",
   "language": "python",
   "name": "python3"
  },
  "language_info": {
   "codemirror_mode": {
    "name": "ipython",
    "version": 3
   },
   "file_extension": ".py",
   "mimetype": "text/x-python",
   "name": "python",
   "nbconvert_exporter": "python",
   "pygments_lexer": "ipython3",
   "version": "3.9.18"
  }
 },
 "nbformat": 4,
 "nbformat_minor": 5
}
